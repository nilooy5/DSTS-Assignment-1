{
 "cells": [
  {
   "cell_type": "code",
   "execution_count": 234,
   "metadata": {
    "ExecuteTime": {
     "end_time": "2023-10-04T08:06:17.998252Z",
     "start_time": "2023-10-04T08:06:17.872348800Z"
    }
   },
   "outputs": [],
   "source": [
    "from sklearn.preprocessing import LabelEncoder\n",
    "import pandas as pd"
   ]
  },
  {
   "cell_type": "markdown",
   "metadata": {},
   "source": [
    "# Part B: Predictive Modelling\n",
    "## I. Feature engineering"
   ]
  },
  {
   "cell_type": "code",
   "execution_count": 235,
   "metadata": {
    "ExecuteTime": {
     "end_time": "2023-10-04T08:06:17.998252Z",
     "start_time": "2023-10-04T08:06:17.899669200Z"
    }
   },
   "outputs": [
    {
     "data": {
      "text/plain": "address             0\ncost              346\ncuisine             0\nlat               192\nlink                0\nlng               192\nphone               0\nrating_number    3316\nrating_text      3316\nsubzone             0\ntitle               0\ntype               48\nvotes            3316\ngroupon             0\ncolor               0\ncost_2            346\ncuisine_color       0\ndtype: int64"
     },
     "execution_count": 235,
     "metadata": {},
     "output_type": "execute_result"
    }
   ],
   "source": [
    "df = pd.read_csv('data/zomato_df_final_data.csv')\n",
    "df.isna().sum()"
   ]
  },
  {
   "cell_type": "code",
   "execution_count": 236,
   "metadata": {
    "ExecuteTime": {
     "end_time": "2023-10-04T08:06:17.998252Z",
     "start_time": "2023-10-04T08:06:17.965518700Z"
    }
   },
   "outputs": [
    {
     "data": {
      "text/plain": "    cost  rating_number                                subzone   votes  \\\n0   50.0            4.0                                    CBD  1311.0   \n1   80.0            4.6  The Grounds of Alexandria, Alexandria  3236.0   \n2  120.0            4.9                      The Star, Pyrmont  1227.0   \n\n   groupon     cost_2  \n0    False   5.243902  \n1    False   7.560976  \n2    False  10.650407  ",
      "text/html": "<div>\n<style scoped>\n    .dataframe tbody tr th:only-of-type {\n        vertical-align: middle;\n    }\n\n    .dataframe tbody tr th {\n        vertical-align: top;\n    }\n\n    .dataframe thead th {\n        text-align: right;\n    }\n</style>\n<table border=\"1\" class=\"dataframe\">\n  <thead>\n    <tr style=\"text-align: right;\">\n      <th></th>\n      <th>cost</th>\n      <th>rating_number</th>\n      <th>subzone</th>\n      <th>votes</th>\n      <th>groupon</th>\n      <th>cost_2</th>\n    </tr>\n  </thead>\n  <tbody>\n    <tr>\n      <th>0</th>\n      <td>50.0</td>\n      <td>4.0</td>\n      <td>CBD</td>\n      <td>1311.0</td>\n      <td>False</td>\n      <td>5.243902</td>\n    </tr>\n    <tr>\n      <th>1</th>\n      <td>80.0</td>\n      <td>4.6</td>\n      <td>The Grounds of Alexandria, Alexandria</td>\n      <td>3236.0</td>\n      <td>False</td>\n      <td>7.560976</td>\n    </tr>\n    <tr>\n      <th>2</th>\n      <td>120.0</td>\n      <td>4.9</td>\n      <td>The Star, Pyrmont</td>\n      <td>1227.0</td>\n      <td>False</td>\n      <td>10.650407</td>\n    </tr>\n  </tbody>\n</table>\n</div>"
     },
     "execution_count": 236,
     "metadata": {},
     "output_type": "execute_result"
    }
   ],
   "source": [
    "df_rating_text = pd.get_dummies(df['rating_text'])\n",
    "df = df.drop(columns = [\"address\", \"link\", \"phone\", \"title\", \"color\", \"cuisine_color\", \"type\", \"cuisine\", \"rating_text\", \"lat\", \"lng\"], axis = 1)\n",
    "df.head(3)"
   ]
  },
  {
   "cell_type": "code",
   "execution_count": 237,
   "outputs": [
    {
     "data": {
      "text/plain": "   Average  Excellent   Good   Poor  Very Good\n0    False      False  False  False       True\n1    False       True  False  False      False\n2    False       True  False  False      False",
      "text/html": "<div>\n<style scoped>\n    .dataframe tbody tr th:only-of-type {\n        vertical-align: middle;\n    }\n\n    .dataframe tbody tr th {\n        vertical-align: top;\n    }\n\n    .dataframe thead th {\n        text-align: right;\n    }\n</style>\n<table border=\"1\" class=\"dataframe\">\n  <thead>\n    <tr style=\"text-align: right;\">\n      <th></th>\n      <th>Average</th>\n      <th>Excellent</th>\n      <th>Good</th>\n      <th>Poor</th>\n      <th>Very Good</th>\n    </tr>\n  </thead>\n  <tbody>\n    <tr>\n      <th>0</th>\n      <td>False</td>\n      <td>False</td>\n      <td>False</td>\n      <td>False</td>\n      <td>True</td>\n    </tr>\n    <tr>\n      <th>1</th>\n      <td>False</td>\n      <td>True</td>\n      <td>False</td>\n      <td>False</td>\n      <td>False</td>\n    </tr>\n    <tr>\n      <th>2</th>\n      <td>False</td>\n      <td>True</td>\n      <td>False</td>\n      <td>False</td>\n      <td>False</td>\n    </tr>\n  </tbody>\n</table>\n</div>"
     },
     "execution_count": 237,
     "metadata": {},
     "output_type": "execute_result"
    }
   ],
   "source": [
    "df_rating_text.head(3)"
   ],
   "metadata": {
    "collapsed": false,
    "ExecuteTime": {
     "end_time": "2023-10-04T08:06:17.998252Z",
     "start_time": "2023-10-04T08:06:17.982588Z"
    }
   }
  },
  {
   "cell_type": "code",
   "execution_count": 238,
   "outputs": [
    {
     "data": {
      "text/plain": "   Average  Excellent   Good   Poor  Very Good  bin_rating\n0    False      False  False  False       True           2\n1    False       True  False  False      False           2\n2    False       True  False  False      False           2\n3    False       True  False  False      False           2\n4    False       True  False  False      False           2\n5    False       True  False  False      False           2\n6    False       True  False  False      False           2\n7    False      False  False  False       True           2\n8    False      False  False  False       True           2\n9    False       True  False  False      False           2",
      "text/html": "<div>\n<style scoped>\n    .dataframe tbody tr th:only-of-type {\n        vertical-align: middle;\n    }\n\n    .dataframe tbody tr th {\n        vertical-align: top;\n    }\n\n    .dataframe thead th {\n        text-align: right;\n    }\n</style>\n<table border=\"1\" class=\"dataframe\">\n  <thead>\n    <tr style=\"text-align: right;\">\n      <th></th>\n      <th>Average</th>\n      <th>Excellent</th>\n      <th>Good</th>\n      <th>Poor</th>\n      <th>Very Good</th>\n      <th>bin_rating</th>\n    </tr>\n  </thead>\n  <tbody>\n    <tr>\n      <th>0</th>\n      <td>False</td>\n      <td>False</td>\n      <td>False</td>\n      <td>False</td>\n      <td>True</td>\n      <td>2</td>\n    </tr>\n    <tr>\n      <th>1</th>\n      <td>False</td>\n      <td>True</td>\n      <td>False</td>\n      <td>False</td>\n      <td>False</td>\n      <td>2</td>\n    </tr>\n    <tr>\n      <th>2</th>\n      <td>False</td>\n      <td>True</td>\n      <td>False</td>\n      <td>False</td>\n      <td>False</td>\n      <td>2</td>\n    </tr>\n    <tr>\n      <th>3</th>\n      <td>False</td>\n      <td>True</td>\n      <td>False</td>\n      <td>False</td>\n      <td>False</td>\n      <td>2</td>\n    </tr>\n    <tr>\n      <th>4</th>\n      <td>False</td>\n      <td>True</td>\n      <td>False</td>\n      <td>False</td>\n      <td>False</td>\n      <td>2</td>\n    </tr>\n    <tr>\n      <th>5</th>\n      <td>False</td>\n      <td>True</td>\n      <td>False</td>\n      <td>False</td>\n      <td>False</td>\n      <td>2</td>\n    </tr>\n    <tr>\n      <th>6</th>\n      <td>False</td>\n      <td>True</td>\n      <td>False</td>\n      <td>False</td>\n      <td>False</td>\n      <td>2</td>\n    </tr>\n    <tr>\n      <th>7</th>\n      <td>False</td>\n      <td>False</td>\n      <td>False</td>\n      <td>False</td>\n      <td>True</td>\n      <td>2</td>\n    </tr>\n    <tr>\n      <th>8</th>\n      <td>False</td>\n      <td>False</td>\n      <td>False</td>\n      <td>False</td>\n      <td>True</td>\n      <td>2</td>\n    </tr>\n    <tr>\n      <th>9</th>\n      <td>False</td>\n      <td>True</td>\n      <td>False</td>\n      <td>False</td>\n      <td>False</td>\n      <td>2</td>\n    </tr>\n  </tbody>\n</table>\n</div>"
     },
     "execution_count": 238,
     "metadata": {},
     "output_type": "execute_result"
    }
   ],
   "source": [
    "df_rating_text['bin_rating'] = 0\n",
    "# if in df_rating_text['Poor'] == True or df_rating_text['Average'] == True then put 1 in df_rating_text['bin_rating'] else put 2\n",
    "df_rating_text['bin_rating'] = df_rating_text.apply(lambda x: 1 if x['Poor'] == 1 or x['Average'] == 1 else 2, axis=1)\n",
    "df_rating_text.head(10)"
   ],
   "metadata": {
    "collapsed": false,
    "ExecuteTime": {
     "end_time": "2023-10-04T08:06:18.166261200Z",
     "start_time": "2023-10-04T08:06:17.998252Z"
    }
   }
  },
  {
   "cell_type": "code",
   "execution_count": 239,
   "metadata": {
    "ExecuteTime": {
     "end_time": "2023-10-04T08:06:18.166261200Z",
     "start_time": "2023-10-04T08:06:18.077520600Z"
    }
   },
   "outputs": [
    {
     "data": {
      "text/plain": "    cost  rating_number     subzone   votes  groupon     cost_2  \\\n0   50.0            4.0         CBD  1311.0        0   5.243902   \n1   80.0            4.6  Alexandria  3236.0        0   7.560976   \n2  120.0            4.9     Pyrmont  1227.0        0  10.650407   \n\n   subzone_encoded  \n0               48  \n1                1  \n2              245  ",
      "text/html": "<div>\n<style scoped>\n    .dataframe tbody tr th:only-of-type {\n        vertical-align: middle;\n    }\n\n    .dataframe tbody tr th {\n        vertical-align: top;\n    }\n\n    .dataframe thead th {\n        text-align: right;\n    }\n</style>\n<table border=\"1\" class=\"dataframe\">\n  <thead>\n    <tr style=\"text-align: right;\">\n      <th></th>\n      <th>cost</th>\n      <th>rating_number</th>\n      <th>subzone</th>\n      <th>votes</th>\n      <th>groupon</th>\n      <th>cost_2</th>\n      <th>subzone_encoded</th>\n    </tr>\n  </thead>\n  <tbody>\n    <tr>\n      <th>0</th>\n      <td>50.0</td>\n      <td>4.0</td>\n      <td>CBD</td>\n      <td>1311.0</td>\n      <td>0</td>\n      <td>5.243902</td>\n      <td>48</td>\n    </tr>\n    <tr>\n      <th>1</th>\n      <td>80.0</td>\n      <td>4.6</td>\n      <td>Alexandria</td>\n      <td>3236.0</td>\n      <td>0</td>\n      <td>7.560976</td>\n      <td>1</td>\n    </tr>\n    <tr>\n      <th>2</th>\n      <td>120.0</td>\n      <td>4.9</td>\n      <td>Pyrmont</td>\n      <td>1227.0</td>\n      <td>0</td>\n      <td>10.650407</td>\n      <td>245</td>\n    </tr>\n  </tbody>\n</table>\n</div>"
     },
     "execution_count": 239,
     "metadata": {},
     "output_type": "execute_result"
    }
   ],
   "source": [
    "df.groupon = df.groupon.astype(int)\n",
    "\n",
    "# cleaning up the subzone column\n",
    "df['subzone'] = df['subzone'].apply(lambda x: x.split(',')[-1].strip() if ',' in x else x)\n",
    "\n",
    "# encoding the subzone column\n",
    "label_encoder = LabelEncoder()\n",
    "df['subzone_encoded'] = label_encoder.fit_transform(df['subzone'])\n",
    "df.head(3)"
   ]
  },
  {
   "cell_type": "code",
   "execution_count": 240,
   "outputs": [
    {
     "data": {
      "text/plain": "cost                346\nrating_number      3316\nsubzone               0\nvotes              3316\ngroupon               0\ncost_2              346\nsubzone_encoded       0\ndtype: int64"
     },
     "execution_count": 240,
     "metadata": {},
     "output_type": "execute_result"
    }
   ],
   "source": [
    "df.isna().sum()"
   ],
   "metadata": {
    "collapsed": false,
    "ExecuteTime": {
     "end_time": "2023-10-04T08:06:18.166261200Z",
     "start_time": "2023-10-04T08:06:18.103830Z"
    }
   }
  },
  {
   "cell_type": "code",
   "execution_count": 241,
   "outputs": [
    {
     "data": {
      "text/plain": "cost               346\nrating_number        0\nsubzone              0\nvotes                0\ngroupon              0\ncost_2             346\nsubzone_encoded      0\ndtype: int64"
     },
     "execution_count": 241,
     "metadata": {},
     "output_type": "execute_result"
    }
   ],
   "source": [
    "# handling the missing values\n",
    "# fill the rating column with the mean\n",
    "df['rating_number'] = df.groupby('subzone_encoded')['rating_number'].transform(lambda x: x.fillna(x.mean()))\n",
    "df['rating_number'] = df['rating_number'].fillna(df['rating_number'].mean())\n",
    "# fill the votes column with the mean\n",
    "df['votes'] = df.groupby('subzone_encoded')['votes'].transform(lambda x: x.fillna(x.mean()))\n",
    "df['votes'] = df['votes'].fillna(df['votes'].mean())\n",
    "df.isna().sum()"
   ],
   "metadata": {
    "collapsed": false,
    "ExecuteTime": {
     "end_time": "2023-10-04T08:06:18.300441500Z",
     "start_time": "2023-10-04T08:06:18.119417500Z"
    }
   }
  },
  {
   "cell_type": "code",
   "execution_count": 242,
   "outputs": [
    {
     "data": {
      "text/plain": "cost               0\nrating_number      0\nvotes              0\ngroupon            0\ncost_2             0\nsubzone_encoded    0\ndtype: int64"
     },
     "execution_count": 242,
     "metadata": {},
     "output_type": "execute_result"
    }
   ],
   "source": [
    "df['cost'] = df.groupby('subzone_encoded')['cost'].transform(lambda x: x.fillna(x.mean()))\n",
    "df['cost'] = df['cost'].fillna(df['cost'].mean())\n",
    "\n",
    "df['cost_2'] = df.groupby('subzone_encoded')['cost_2'].transform(lambda x: x.fillna(x.mean()))\n",
    "df['cost_2'] = df['cost_2'].fillna(df['cost_2'].mean())\n",
    "\n",
    "df = df.drop(columns = [\"subzone\"], axis = 1)\n",
    "df.isna().sum()"
   ],
   "metadata": {
    "collapsed": false,
    "ExecuteTime": {
     "end_time": "2023-10-04T08:06:18.399762100Z",
     "start_time": "2023-10-04T08:06:18.221615Z"
    }
   }
  },
  {
   "cell_type": "markdown",
   "source": [
    "## II. Regression Modelling"
   ],
   "metadata": {
    "collapsed": false
   }
  },
  {
   "cell_type": "code",
   "execution_count": 243,
   "outputs": [],
   "source": [
    "X = df.drop(columns=['rating_number'])\n",
    "y = df['rating_number']"
   ],
   "metadata": {
    "collapsed": false,
    "ExecuteTime": {
     "end_time": "2023-10-04T08:06:18.399762100Z",
     "start_time": "2023-10-04T08:06:18.303897300Z"
    }
   }
  },
  {
   "cell_type": "markdown",
   "source": [
    "#### Build a linear regression model (model_regression_1) to predict the restaurants rating (numeric rating) from other features (columns) in the dataset. \n",
    "Please consider splitting the data into train (80%) and test (20%) sets."
   ],
   "metadata": {
    "collapsed": false
   }
  },
  {
   "cell_type": "code",
   "execution_count": 244,
   "outputs": [
    {
     "name": "stdout",
     "output_type": "stream",
     "text": [
      "Regression Model 1:\n",
      "Mean squared error: 0.11\n",
      "Coefficient of determination: 0.26\n"
     ]
    }
   ],
   "source": [
    "# Build a linear regression model (model_regression_1) to predict the restaurants rating (numeric rating) from other features (columns) in the dataset. Please consider splitting the data into train (80%) and test (20%) sets.\n",
    "from sklearn.model_selection import train_test_split\n",
    "from sklearn.linear_model import LinearRegression\n",
    "from sklearn.metrics import mean_squared_error, r2_score\n",
    "\n",
    "X_train, X_test, y_train, y_test = train_test_split(X, y, test_size=0.2, random_state=123)\n",
    "model_regression_1 = LinearRegression()\n",
    "model_regression_1.fit(X_train, y_train)\n",
    "# predictions\n",
    "y_pred = model_regression_1.predict(X_test)\n",
    "# print('Coefficients: \\n', model_regression_1.coef_)\n",
    "# Evaluate the model using the Mean Squared Error and R-squared metrics.\n",
    "print('Regression Model 1:')\n",
    "print('Mean squared error: %.2f' % mean_squared_error(y_test, y_pred))\n",
    "print('Coefficient of determination: %.2f' % r2_score(y_test, y_pred))\n"
   ],
   "metadata": {
    "collapsed": false,
    "ExecuteTime": {
     "end_time": "2023-10-04T08:06:18.399762100Z",
     "start_time": "2023-10-04T08:06:18.321352500Z"
    }
   }
  },
  {
   "cell_type": "markdown",
   "source": [
    "#### Build another linear regression model (model_regression_2) with using the Gradient Descent as the optimisation function"
   ],
   "metadata": {
    "collapsed": false
   }
  },
  {
   "cell_type": "code",
   "execution_count": 245,
   "outputs": [
    {
     "name": "stdout",
     "output_type": "stream",
     "text": [
      "Regression Model 2:\n",
      "Mean squared error: 0.11\n",
      "Coefficient of determination: 0.24\n"
     ]
    }
   ],
   "source": [
    "# Build another linear regression model (model_regression_2) with using the Gradient Descent as the optimisation function\n",
    "from sklearn.linear_model import SGDRegressor\n",
    "from sklearn.preprocessing import StandardScaler\n",
    "\n",
    "scaler = StandardScaler()\n",
    "X_train_scaled = scaler.fit_transform(X_train)\n",
    "X_test_scaled = scaler.transform(X_test)\n",
    "\n",
    "model_regression_2 = SGDRegressor(loss=\"squared_error\", max_iter=150, random_state=0)\n",
    "model_regression_2.fit(X_train_scaled, y_train)\n",
    "# predictions\n",
    "y_pred = model_regression_2.predict(X_test_scaled)\n",
    "# print('Coefficients: \\n', model_regression_2.coef_)\n",
    "# Evaluate the model using the Mean Squared Error and R-squared metrics.\n",
    "print('Regression Model 2:')\n",
    "print('Mean squared error: %.2f' % mean_squared_error(y_test, y_pred))\n",
    "print('Coefficient of determination: %.2f' % r2_score(y_test, y_pred))"
   ],
   "metadata": {
    "collapsed": false,
    "ExecuteTime": {
     "end_time": "2023-10-04T08:06:18.401056Z",
     "start_time": "2023-10-04T08:06:18.337003800Z"
    }
   }
  },
  {
   "cell_type": "code",
   "execution_count": 246,
   "outputs": [
    {
     "data": {
      "text/plain": "cost               float64\nrating_number      float64\nvotes              float64\ngroupon              int32\ncost_2             float64\nsubzone_encoded      int32\ndtype: object"
     },
     "execution_count": 246,
     "metadata": {},
     "output_type": "execute_result"
    }
   ],
   "source": [
    "df.dtypes"
   ],
   "metadata": {
    "collapsed": false,
    "ExecuteTime": {
     "end_time": "2023-10-04T08:06:18.465215300Z",
     "start_time": "2023-10-04T08:06:18.365269600Z"
    }
   }
  },
  {
   "cell_type": "markdown",
   "source": [
    "## III. Classification Modelling"
   ],
   "metadata": {
    "collapsed": false
   }
  },
  {
   "cell_type": "code",
   "execution_count": 247,
   "outputs": [
    {
     "data": {
      "text/plain": "   Average  Excellent   Good   Poor  Very Good  bin_rating\n0    False      False  False  False       True           2\n1    False       True  False  False      False           2\n2    False       True  False  False      False           2",
      "text/html": "<div>\n<style scoped>\n    .dataframe tbody tr th:only-of-type {\n        vertical-align: middle;\n    }\n\n    .dataframe tbody tr th {\n        vertical-align: top;\n    }\n\n    .dataframe thead th {\n        text-align: right;\n    }\n</style>\n<table border=\"1\" class=\"dataframe\">\n  <thead>\n    <tr style=\"text-align: right;\">\n      <th></th>\n      <th>Average</th>\n      <th>Excellent</th>\n      <th>Good</th>\n      <th>Poor</th>\n      <th>Very Good</th>\n      <th>bin_rating</th>\n    </tr>\n  </thead>\n  <tbody>\n    <tr>\n      <th>0</th>\n      <td>False</td>\n      <td>False</td>\n      <td>False</td>\n      <td>False</td>\n      <td>True</td>\n      <td>2</td>\n    </tr>\n    <tr>\n      <th>1</th>\n      <td>False</td>\n      <td>True</td>\n      <td>False</td>\n      <td>False</td>\n      <td>False</td>\n      <td>2</td>\n    </tr>\n    <tr>\n      <th>2</th>\n      <td>False</td>\n      <td>True</td>\n      <td>False</td>\n      <td>False</td>\n      <td>False</td>\n      <td>2</td>\n    </tr>\n  </tbody>\n</table>\n</div>"
     },
     "execution_count": 247,
     "metadata": {},
     "output_type": "execute_result"
    }
   ],
   "source": [
    "df_rating_text.head(3)"
   ],
   "metadata": {
    "collapsed": false,
    "ExecuteTime": {
     "end_time": "2023-10-04T08:06:18.465215300Z",
     "start_time": "2023-10-04T08:06:18.386753100Z"
    }
   }
  },
  {
   "cell_type": "code",
   "execution_count": 248,
   "outputs": [
    {
     "data": {
      "text/plain": "    cost  rating_number   votes  groupon     cost_2  subzone_encoded  \\\n0   50.0            4.0  1311.0        0   5.243902               48   \n1   80.0            4.6  3236.0        0   7.560976                1   \n2  120.0            4.9  1227.0        0  10.650407              245   \n\n   bin_rating  \n0           2  \n1           2  \n2           2  ",
      "text/html": "<div>\n<style scoped>\n    .dataframe tbody tr th:only-of-type {\n        vertical-align: middle;\n    }\n\n    .dataframe tbody tr th {\n        vertical-align: top;\n    }\n\n    .dataframe thead th {\n        text-align: right;\n    }\n</style>\n<table border=\"1\" class=\"dataframe\">\n  <thead>\n    <tr style=\"text-align: right;\">\n      <th></th>\n      <th>cost</th>\n      <th>rating_number</th>\n      <th>votes</th>\n      <th>groupon</th>\n      <th>cost_2</th>\n      <th>subzone_encoded</th>\n      <th>bin_rating</th>\n    </tr>\n  </thead>\n  <tbody>\n    <tr>\n      <th>0</th>\n      <td>50.0</td>\n      <td>4.0</td>\n      <td>1311.0</td>\n      <td>0</td>\n      <td>5.243902</td>\n      <td>48</td>\n      <td>2</td>\n    </tr>\n    <tr>\n      <th>1</th>\n      <td>80.0</td>\n      <td>4.6</td>\n      <td>3236.0</td>\n      <td>0</td>\n      <td>7.560976</td>\n      <td>1</td>\n      <td>2</td>\n    </tr>\n    <tr>\n      <th>2</th>\n      <td>120.0</td>\n      <td>4.9</td>\n      <td>1227.0</td>\n      <td>0</td>\n      <td>10.650407</td>\n      <td>245</td>\n      <td>2</td>\n    </tr>\n  </tbody>\n</table>\n</div>"
     },
     "execution_count": 248,
     "metadata": {},
     "output_type": "execute_result"
    }
   ],
   "source": [
    "df['bin_rating'] = df_rating_text['bin_rating']\n",
    "df.head(3)"
   ],
   "metadata": {
    "collapsed": false,
    "ExecuteTime": {
     "end_time": "2023-10-04T08:06:18.550376800Z",
     "start_time": "2023-10-04T08:06:18.416861500Z"
    }
   }
  },
  {
   "cell_type": "markdown",
   "source": [
    "### Logistic Regression Model"
   ],
   "metadata": {
    "collapsed": false
   }
  },
  {
   "cell_type": "code",
   "execution_count": 249,
   "outputs": [
    {
     "name": "stdout",
     "output_type": "stream",
     "text": [
      "Classification Model 3:\n",
      "Accuracy: 0.77\n",
      "Confusion Matrix: \n",
      " [[728 256]\n",
      " [223 893]]\n",
      "Classification Report: \n",
      "               precision    recall  f1-score   support\n",
      "\n",
      "           1       0.77      0.74      0.75       984\n",
      "           2       0.78      0.80      0.79      1116\n",
      "\n",
      "    accuracy                           0.77      2100\n",
      "   macro avg       0.77      0.77      0.77      2100\n",
      "weighted avg       0.77      0.77      0.77      2100\n"
     ]
    }
   ],
   "source": [
    "# build a logistic regression model (model_classification_3) to predict the restaurants rating (binary rating) from other features (columns) in the dataset. Please consider splitting the data into train (80%) and test (20%) sets.\n",
    "from sklearn.linear_model import LogisticRegression\n",
    "from sklearn.metrics import accuracy_score, confusion_matrix, classification_report\n",
    "\n",
    "X = df.drop(columns=['bin_rating'])\n",
    "y = df['bin_rating']\n",
    "\n",
    "X_train, X_test, y_train, y_test = train_test_split(X, y, test_size=0.2, random_state=123)\n",
    "model_classification_3 = LogisticRegression()\n",
    "model_classification_3.fit(X_train, y_train)\n",
    "# predictions\n",
    "y_pred = model_classification_3.predict(X_test)\n",
    "# print('Coefficients: \\n', model_classification_3.coef_)\n",
    "# Evaluate the model using the Accuracy, Confusion Matrix and Classification Report metrics.\n",
    "print('Classification Model 3:')\n",
    "print('Accuracy: %.2f' % accuracy_score(y_test, y_pred))\n",
    "print('Confusion Matrix: \\n', confusion_matrix(y_test, y_pred))\n",
    "print('Classification Report: \\n', classification_report(y_test, y_pred))"
   ],
   "metadata": {
    "collapsed": false,
    "ExecuteTime": {
     "end_time": "2023-10-04T08:06:18.613290Z",
     "start_time": "2023-10-04T08:06:18.433953900Z"
    }
   }
  },
  {
   "cell_type": "markdown",
   "source": [],
   "metadata": {
    "collapsed": false
   }
  }
 ],
 "metadata": {
  "kernelspec": {
   "display_name": "Python 3 (ipykernel)",
   "language": "python",
   "name": "python3"
  },
  "language_info": {
   "codemirror_mode": {
    "name": "ipython",
    "version": 3
   },
   "file_extension": ".py",
   "mimetype": "text/x-python",
   "name": "python",
   "nbconvert_exporter": "python",
   "pygments_lexer": "ipython3",
   "version": "3.10.2"
  },
  "orig_nbformat": 4
 },
 "nbformat": 4,
 "nbformat_minor": 2
}
