{
 "cells": [
  {
   "cell_type": "code",
   "execution_count": 1,
   "id": "initial_id",
   "metadata": {
    "collapsed": true,
    "ExecuteTime": {
     "end_time": "2023-10-03T08:33:37.749074100Z",
     "start_time": "2023-10-03T08:33:36.471473800Z"
    }
   },
   "outputs": [],
   "source": [
    "import pandas as pd\n",
    "import numpy as np\n",
    "from ast import literal_eval\n",
    "import geopandas as gpd\n",
    "import plotly.express as px\n",
    "import matplotlib.pyplot as plt\n",
    "from shapely.geometry import Point\n",
    "import json"
   ]
  },
  {
   "cell_type": "markdown",
   "source": [
    "#### Reading Data"
   ],
   "metadata": {
    "collapsed": false
   },
   "id": "d1be5d8bbf71ed90"
  },
  {
   "cell_type": "code",
   "execution_count": 2,
   "outputs": [
    {
     "data": {
      "text/plain": "                                             address   cost  \\\n0                      371A Pitt Street, CBD, Sydney   50.0   \n1      Shop 7A, 2 Huntley Street, Alexandria, Sydney   80.0   \n2   Level G, The Darling at the Star, 80 Pyrmont ...  120.0   \n3   Sydney Opera House, Bennelong Point, Circular...  270.0   \n4              20 Campbell Street, Chinatown, Sydney   55.0   \n\n                                       cuisine        lat  \\\n0   ['Hot Pot', 'Korean BBQ', 'BBQ', 'Korean'] -33.876059   \n1  ['Cafe', 'Coffee and Tea', 'Salad', 'Poké'] -33.910999   \n2                                 ['Japanese'] -33.867971   \n3                        ['Modern Australian'] -33.856784   \n4                            ['Thai', 'Salad'] -33.879035   \n\n                                                link         lng  \\\n0    https://www.zomato.com/sydney/sydney-madang-cbd  151.207605   \n1  https://www.zomato.com/sydney/the-grounds-of-a...  151.193793   \n2        https://www.zomato.com/sydney/sokyo-pyrmont  151.195210   \n3  https://www.zomato.com/sydney/bennelong-restau...  151.215297   \n4  https://www.zomato.com/sydney/chat-thai-chinatown  151.206409   \n\n          phone  rating_number rating_text  \\\n0  02 8318 0406            4.0   Very Good   \n1  02 9699 2225            4.6   Excellent   \n2  1800 700 700            4.9   Excellent   \n3  02 9240 8000            4.9   Excellent   \n4  02 8317 4811            4.5   Excellent   \n\n                                 subzone                           title  \\\n0                                    CBD                   Sydney Madang   \n1  The Grounds of Alexandria, Alexandria  The Grounds of Alexandria Cafe   \n2                      The Star, Pyrmont                           Sokyo   \n3                          Circular Quay            Bennelong Restaurant   \n4                              Chinatown                       Chat Thai   \n\n                     type   votes  groupon    color     cost_2 cuisine_color  \n0       ['Casual Dining']  1311.0    False  #e15307   5.243902       #6f706b  \n1                ['Café']  3236.0    False  #9c3203   7.560976       #6f706b  \n2         ['Fine Dining']  1227.0    False  #7f2704  10.650407       #6f706b  \n3  ['Fine Dining', 'Bar']   278.0    False  #7f2704  22.235772       #4186f4  \n4       ['Casual Dining']  2150.0    False  #a83703   5.630081       #6f706b  ",
      "text/html": "<div>\n<style scoped>\n    .dataframe tbody tr th:only-of-type {\n        vertical-align: middle;\n    }\n\n    .dataframe tbody tr th {\n        vertical-align: top;\n    }\n\n    .dataframe thead th {\n        text-align: right;\n    }\n</style>\n<table border=\"1\" class=\"dataframe\">\n  <thead>\n    <tr style=\"text-align: right;\">\n      <th></th>\n      <th>address</th>\n      <th>cost</th>\n      <th>cuisine</th>\n      <th>lat</th>\n      <th>link</th>\n      <th>lng</th>\n      <th>phone</th>\n      <th>rating_number</th>\n      <th>rating_text</th>\n      <th>subzone</th>\n      <th>title</th>\n      <th>type</th>\n      <th>votes</th>\n      <th>groupon</th>\n      <th>color</th>\n      <th>cost_2</th>\n      <th>cuisine_color</th>\n    </tr>\n  </thead>\n  <tbody>\n    <tr>\n      <th>0</th>\n      <td>371A Pitt Street, CBD, Sydney</td>\n      <td>50.0</td>\n      <td>['Hot Pot', 'Korean BBQ', 'BBQ', 'Korean']</td>\n      <td>-33.876059</td>\n      <td>https://www.zomato.com/sydney/sydney-madang-cbd</td>\n      <td>151.207605</td>\n      <td>02 8318 0406</td>\n      <td>4.0</td>\n      <td>Very Good</td>\n      <td>CBD</td>\n      <td>Sydney Madang</td>\n      <td>['Casual Dining']</td>\n      <td>1311.0</td>\n      <td>False</td>\n      <td>#e15307</td>\n      <td>5.243902</td>\n      <td>#6f706b</td>\n    </tr>\n    <tr>\n      <th>1</th>\n      <td>Shop 7A, 2 Huntley Street, Alexandria, Sydney</td>\n      <td>80.0</td>\n      <td>['Cafe', 'Coffee and Tea', 'Salad', 'Poké']</td>\n      <td>-33.910999</td>\n      <td>https://www.zomato.com/sydney/the-grounds-of-a...</td>\n      <td>151.193793</td>\n      <td>02 9699 2225</td>\n      <td>4.6</td>\n      <td>Excellent</td>\n      <td>The Grounds of Alexandria, Alexandria</td>\n      <td>The Grounds of Alexandria Cafe</td>\n      <td>['Café']</td>\n      <td>3236.0</td>\n      <td>False</td>\n      <td>#9c3203</td>\n      <td>7.560976</td>\n      <td>#6f706b</td>\n    </tr>\n    <tr>\n      <th>2</th>\n      <td>Level G, The Darling at the Star, 80 Pyrmont ...</td>\n      <td>120.0</td>\n      <td>['Japanese']</td>\n      <td>-33.867971</td>\n      <td>https://www.zomato.com/sydney/sokyo-pyrmont</td>\n      <td>151.195210</td>\n      <td>1800 700 700</td>\n      <td>4.9</td>\n      <td>Excellent</td>\n      <td>The Star, Pyrmont</td>\n      <td>Sokyo</td>\n      <td>['Fine Dining']</td>\n      <td>1227.0</td>\n      <td>False</td>\n      <td>#7f2704</td>\n      <td>10.650407</td>\n      <td>#6f706b</td>\n    </tr>\n    <tr>\n      <th>3</th>\n      <td>Sydney Opera House, Bennelong Point, Circular...</td>\n      <td>270.0</td>\n      <td>['Modern Australian']</td>\n      <td>-33.856784</td>\n      <td>https://www.zomato.com/sydney/bennelong-restau...</td>\n      <td>151.215297</td>\n      <td>02 9240 8000</td>\n      <td>4.9</td>\n      <td>Excellent</td>\n      <td>Circular Quay</td>\n      <td>Bennelong Restaurant</td>\n      <td>['Fine Dining', 'Bar']</td>\n      <td>278.0</td>\n      <td>False</td>\n      <td>#7f2704</td>\n      <td>22.235772</td>\n      <td>#4186f4</td>\n    </tr>\n    <tr>\n      <th>4</th>\n      <td>20 Campbell Street, Chinatown, Sydney</td>\n      <td>55.0</td>\n      <td>['Thai', 'Salad']</td>\n      <td>-33.879035</td>\n      <td>https://www.zomato.com/sydney/chat-thai-chinatown</td>\n      <td>151.206409</td>\n      <td>02 8317 4811</td>\n      <td>4.5</td>\n      <td>Excellent</td>\n      <td>Chinatown</td>\n      <td>Chat Thai</td>\n      <td>['Casual Dining']</td>\n      <td>2150.0</td>\n      <td>False</td>\n      <td>#a83703</td>\n      <td>5.630081</td>\n      <td>#6f706b</td>\n    </tr>\n  </tbody>\n</table>\n</div>"
     },
     "execution_count": 2,
     "metadata": {},
     "output_type": "execute_result"
    }
   ],
   "source": [
    "rest_df = pd.read_csv('data/zomato_df_final_data.csv')\n",
    "rest_df.head()"
   ],
   "metadata": {
    "collapsed": false,
    "ExecuteTime": {
     "end_time": "2023-10-03T08:33:37.827193100Z",
     "start_time": "2023-10-03T08:33:37.749074100Z"
    }
   },
   "id": "363dbad6b2ae200b"
  },
  {
   "cell_type": "markdown",
   "source": [
    "## Data cleaning"
   ],
   "metadata": {
    "collapsed": false
   },
   "id": "a4bd19ef66cf7ce3"
  },
  {
   "cell_type": "markdown",
   "source": [
    "#### Counting NA values before Cleaning"
   ],
   "metadata": {
    "collapsed": false
   },
   "id": "4ac87ecfad8be3e7"
  },
  {
   "cell_type": "code",
   "execution_count": 3,
   "outputs": [
    {
     "data": {
      "text/plain": "address             0\ncost              346\ncuisine             0\nlat               192\nlink                0\nlng               192\nphone               0\nrating_number    3316\nrating_text      3316\nsubzone             0\ntitle               0\ntype               48\nvotes            3316\ngroupon             0\ncolor               0\ncost_2            346\ncuisine_color       0\ndtype: int64"
     },
     "execution_count": 3,
     "metadata": {},
     "output_type": "execute_result"
    }
   ],
   "source": [
    "rest_df.isna().sum()"
   ],
   "metadata": {
    "collapsed": false,
    "ExecuteTime": {
     "end_time": "2023-10-03T08:33:37.858123300Z",
     "start_time": "2023-10-03T08:33:37.827193100Z"
    }
   },
   "id": "9a5aed1bcdbd86bc"
  },
  {
   "cell_type": "markdown",
   "source": [
    "#### Dropping na values"
   ],
   "metadata": {
    "collapsed": false
   },
   "id": "42664f137430c1e4"
  },
  {
   "cell_type": "code",
   "execution_count": 4,
   "outputs": [],
   "source": [
    "rest_df = rest_df.dropna()"
   ],
   "metadata": {
    "collapsed": false,
    "ExecuteTime": {
     "end_time": "2023-10-03T08:33:37.889034700Z",
     "start_time": "2023-10-03T08:33:37.842802100Z"
    }
   },
   "id": "f9c768972ff54705"
  },
  {
   "cell_type": "code",
   "execution_count": 5,
   "outputs": [
    {
     "data": {
      "text/plain": "address          0\ncost             0\ncuisine          0\nlat              0\nlink             0\nlng              0\nphone            0\nrating_number    0\nrating_text      0\nsubzone          0\ntitle            0\ntype             0\nvotes            0\ngroupon          0\ncolor            0\ncost_2           0\ncuisine_color    0\ndtype: int64"
     },
     "execution_count": 5,
     "metadata": {},
     "output_type": "execute_result"
    }
   ],
   "source": [
    "# checking total NA values after cleaning\n",
    "rest_df.isna().sum()"
   ],
   "metadata": {
    "collapsed": false,
    "ExecuteTime": {
     "end_time": "2023-10-03T08:33:37.964640500Z",
     "start_time": "2023-10-03T08:33:37.858123300Z"
    }
   },
   "id": "3b909b76addf1202"
  }
 ],
 "metadata": {
  "kernelspec": {
   "display_name": "Python 3",
   "language": "python",
   "name": "python3"
  },
  "language_info": {
   "codemirror_mode": {
    "name": "ipython",
    "version": 2
   },
   "file_extension": ".py",
   "mimetype": "text/x-python",
   "name": "python",
   "nbconvert_exporter": "python",
   "pygments_lexer": "ipython2",
   "version": "2.7.6"
  }
 },
 "nbformat": 4,
 "nbformat_minor": 5
}
