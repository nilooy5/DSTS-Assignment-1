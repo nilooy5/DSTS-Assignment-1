{
 "cells": [
  {
   "cell_type": "code",
   "execution_count": 102,
   "metadata": {
    "ExecuteTime": {
     "end_time": "2023-10-04T07:19:45.613309400Z",
     "start_time": "2023-10-04T07:19:45.605709300Z"
    }
   },
   "outputs": [],
   "source": [
    "from sklearn.preprocessing import LabelEncoder\n",
    "import pandas as pd"
   ]
  },
  {
   "cell_type": "markdown",
   "metadata": {},
   "source": [
    "# Part B: Predictive Modelling\n",
    "## I. Feature engineering\n",
    "\n",
    "repeating the cleanups from above and adding more feature engineering."
   ]
  },
  {
   "cell_type": "code",
   "execution_count": 103,
   "metadata": {
    "ExecuteTime": {
     "end_time": "2023-10-04T07:19:45.660186300Z",
     "start_time": "2023-10-04T07:19:45.612212400Z"
    }
   },
   "outputs": [
    {
     "data": {
      "text/plain": "address             0\ncost              346\ncuisine             0\nlat               192\nlink                0\nlng               192\nphone               0\nrating_number    3316\nrating_text      3316\nsubzone             0\ntitle               0\ntype               48\nvotes            3316\ngroupon             0\ncolor               0\ncost_2            346\ncuisine_color       0\ndtype: int64"
     },
     "execution_count": 103,
     "metadata": {},
     "output_type": "execute_result"
    }
   ],
   "source": [
    "df = pd.read_csv('data/zomato_df_final_data.csv')\n",
    "df.isna().sum()"
   ]
  },
  {
   "cell_type": "code",
   "execution_count": 104,
   "metadata": {
    "ExecuteTime": {
     "end_time": "2023-10-04T07:19:45.675812300Z",
     "start_time": "2023-10-04T07:19:45.660186300Z"
    }
   },
   "outputs": [
    {
     "data": {
      "text/plain": "    cost                                      cuisine  rating_number  \\\n0   50.0   ['Hot Pot', 'Korean BBQ', 'BBQ', 'Korean']            4.0   \n1   80.0  ['Cafe', 'Coffee and Tea', 'Salad', 'Poké']            4.6   \n2  120.0                                 ['Japanese']            4.9   \n\n                                 subzone   votes  groupon     cost_2  \n0                                    CBD  1311.0    False   5.243902  \n1  The Grounds of Alexandria, Alexandria  3236.0    False   7.560976  \n2                      The Star, Pyrmont  1227.0    False  10.650407  ",
      "text/html": "<div>\n<style scoped>\n    .dataframe tbody tr th:only-of-type {\n        vertical-align: middle;\n    }\n\n    .dataframe tbody tr th {\n        vertical-align: top;\n    }\n\n    .dataframe thead th {\n        text-align: right;\n    }\n</style>\n<table border=\"1\" class=\"dataframe\">\n  <thead>\n    <tr style=\"text-align: right;\">\n      <th></th>\n      <th>cost</th>\n      <th>cuisine</th>\n      <th>rating_number</th>\n      <th>subzone</th>\n      <th>votes</th>\n      <th>groupon</th>\n      <th>cost_2</th>\n    </tr>\n  </thead>\n  <tbody>\n    <tr>\n      <th>0</th>\n      <td>50.0</td>\n      <td>['Hot Pot', 'Korean BBQ', 'BBQ', 'Korean']</td>\n      <td>4.0</td>\n      <td>CBD</td>\n      <td>1311.0</td>\n      <td>False</td>\n      <td>5.243902</td>\n    </tr>\n    <tr>\n      <th>1</th>\n      <td>80.0</td>\n      <td>['Cafe', 'Coffee and Tea', 'Salad', 'Poké']</td>\n      <td>4.6</td>\n      <td>The Grounds of Alexandria, Alexandria</td>\n      <td>3236.0</td>\n      <td>False</td>\n      <td>7.560976</td>\n    </tr>\n    <tr>\n      <th>2</th>\n      <td>120.0</td>\n      <td>['Japanese']</td>\n      <td>4.9</td>\n      <td>The Star, Pyrmont</td>\n      <td>1227.0</td>\n      <td>False</td>\n      <td>10.650407</td>\n    </tr>\n  </tbody>\n</table>\n</div>"
     },
     "execution_count": 104,
     "metadata": {},
     "output_type": "execute_result"
    }
   ],
   "source": [
    "df = df.drop(columns = [\"address\", \"link\", \"phone\", \"title\", \"color\", \"cuisine_color\", \"type\", \"rating_text\", \"lat\", \"lng\"], axis = 1)\n",
    "df.head(3)"
   ]
  },
  {
   "cell_type": "code",
   "execution_count": 105,
   "metadata": {
    "ExecuteTime": {
     "end_time": "2023-10-04T07:19:45.695744600Z",
     "start_time": "2023-10-04T07:19:45.675812300Z"
    }
   },
   "outputs": [],
   "source": [
    "df.groupon = df.groupon.astype(int)\n",
    "\n",
    "# cleaning up the subzone column\n",
    "df['subzone'] = df['subzone'].apply(lambda x: x.split(',')[-1].strip() if ',' in x else x)\n",
    "\n",
    "# encoding the subzone column\n",
    "label_encoder = LabelEncoder()\n",
    "df['subzone_encoded'] = label_encoder.fit_transform(df['subzone'])"
   ]
  },
  {
   "cell_type": "code",
   "execution_count": 105,
   "outputs": [],
   "source": [],
   "metadata": {
    "collapsed": false,
    "ExecuteTime": {
     "end_time": "2023-10-04T07:19:45.695744600Z",
     "start_time": "2023-10-04T07:19:45.694722400Z"
    }
   }
  },
  {
   "cell_type": "code",
   "execution_count": 106,
   "outputs": [
    {
     "data": {
      "text/plain": "    cost                                      cuisine  rating_number  \\\n0   50.0   ['Hot Pot', 'Korean BBQ', 'BBQ', 'Korean']            4.0   \n1   80.0  ['Cafe', 'Coffee and Tea', 'Salad', 'Poké']            4.6   \n2  120.0                                 ['Japanese']            4.9   \n\n      subzone   votes  groupon     cost_2  subzone_encoded  \n0         CBD  1311.0        0   5.243902               48  \n1  Alexandria  3236.0        0   7.560976                1  \n2     Pyrmont  1227.0        0  10.650407              245  ",
      "text/html": "<div>\n<style scoped>\n    .dataframe tbody tr th:only-of-type {\n        vertical-align: middle;\n    }\n\n    .dataframe tbody tr th {\n        vertical-align: top;\n    }\n\n    .dataframe thead th {\n        text-align: right;\n    }\n</style>\n<table border=\"1\" class=\"dataframe\">\n  <thead>\n    <tr style=\"text-align: right;\">\n      <th></th>\n      <th>cost</th>\n      <th>cuisine</th>\n      <th>rating_number</th>\n      <th>subzone</th>\n      <th>votes</th>\n      <th>groupon</th>\n      <th>cost_2</th>\n      <th>subzone_encoded</th>\n    </tr>\n  </thead>\n  <tbody>\n    <tr>\n      <th>0</th>\n      <td>50.0</td>\n      <td>['Hot Pot', 'Korean BBQ', 'BBQ', 'Korean']</td>\n      <td>4.0</td>\n      <td>CBD</td>\n      <td>1311.0</td>\n      <td>0</td>\n      <td>5.243902</td>\n      <td>48</td>\n    </tr>\n    <tr>\n      <th>1</th>\n      <td>80.0</td>\n      <td>['Cafe', 'Coffee and Tea', 'Salad', 'Poké']</td>\n      <td>4.6</td>\n      <td>Alexandria</td>\n      <td>3236.0</td>\n      <td>0</td>\n      <td>7.560976</td>\n      <td>1</td>\n    </tr>\n    <tr>\n      <th>2</th>\n      <td>120.0</td>\n      <td>['Japanese']</td>\n      <td>4.9</td>\n      <td>Pyrmont</td>\n      <td>1227.0</td>\n      <td>0</td>\n      <td>10.650407</td>\n      <td>245</td>\n    </tr>\n  </tbody>\n</table>\n</div>"
     },
     "execution_count": 106,
     "metadata": {},
     "output_type": "execute_result"
    }
   ],
   "source": [
    "df.head(3)"
   ],
   "metadata": {
    "collapsed": false,
    "ExecuteTime": {
     "end_time": "2023-10-04T07:19:45.796584800Z",
     "start_time": "2023-10-04T07:19:45.695744600Z"
    }
   }
  },
  {
   "cell_type": "code",
   "execution_count": 107,
   "outputs": [
    {
     "data": {
      "text/plain": "cost                346\ncuisine               0\nrating_number      3316\nsubzone               0\nvotes              3316\ngroupon               0\ncost_2              346\nsubzone_encoded       0\ndtype: int64"
     },
     "execution_count": 107,
     "metadata": {},
     "output_type": "execute_result"
    }
   ],
   "source": [
    "df.isna().sum()"
   ],
   "metadata": {
    "collapsed": false,
    "ExecuteTime": {
     "end_time": "2023-10-04T07:19:45.874765200Z",
     "start_time": "2023-10-04T07:19:45.711288Z"
    }
   }
  },
  {
   "cell_type": "code",
   "execution_count": 108,
   "outputs": [
    {
     "data": {
      "text/plain": "cost               346\ncuisine              0\nrating_number        0\nsubzone              0\nvotes                0\ngroupon              0\ncost_2             346\nsubzone_encoded      0\ndtype: int64"
     },
     "execution_count": 108,
     "metadata": {},
     "output_type": "execute_result"
    }
   ],
   "source": [
    "# handling the missing values\n",
    "# fill the rating column with the mean\n",
    "df['rating_number'] = df.groupby('subzone_encoded')['rating_number'].transform(lambda x: x.fillna(x.mean()))\n",
    "df['rating_number'] = df['rating_number'].fillna(df['rating_number'].mean())\n",
    "# fill the votes column with the mean\n",
    "df['votes'] = df.groupby('subzone_encoded')['votes'].transform(lambda x: x.fillna(x.mean()))\n",
    "df['votes'] = df['votes'].fillna(df['votes'].mean())\n",
    "df.isna().sum()"
   ],
   "metadata": {
    "collapsed": false,
    "ExecuteTime": {
     "end_time": "2023-10-04T07:19:45.945482Z",
     "start_time": "2023-10-04T07:19:45.726939100Z"
    }
   }
  },
  {
   "cell_type": "code",
   "execution_count": 109,
   "outputs": [
    {
     "data": {
      "text/plain": "cost               0\ncuisine            0\nrating_number      0\nvotes              0\ngroupon            0\ncost_2             0\nsubzone_encoded    0\ndtype: int64"
     },
     "execution_count": 109,
     "metadata": {},
     "output_type": "execute_result"
    }
   ],
   "source": [
    "df['cost'] = df.groupby('subzone_encoded')['cost'].transform(lambda x: x.fillna(x.mean()))\n",
    "df['cost'] = df['cost'].fillna(df['cost'].mean())\n",
    "\n",
    "df['cost_2'] = df.groupby('subzone_encoded')['cost_2'].transform(lambda x: x.fillna(x.mean()))\n",
    "df['cost_2'] = df['cost_2'].fillna(df['cost_2'].mean())\n",
    "\n",
    "df = df.drop(columns = [\"subzone\"], axis = 1)\n",
    "df.isna().sum()"
   ],
   "metadata": {
    "collapsed": false,
    "ExecuteTime": {
     "end_time": "2023-10-04T07:19:46.046979400Z",
     "start_time": "2023-10-04T07:19:45.831214800Z"
    }
   }
  },
  {
   "cell_type": "code",
   "execution_count": 109,
   "outputs": [],
   "source": [],
   "metadata": {
    "collapsed": false,
    "ExecuteTime": {
     "end_time": "2023-10-04T07:19:46.046979400Z",
     "start_time": "2023-10-04T07:19:46.031771500Z"
    }
   }
  }
 ],
 "metadata": {
  "kernelspec": {
   "display_name": "Python 3 (ipykernel)",
   "language": "python",
   "name": "python3"
  },
  "language_info": {
   "codemirror_mode": {
    "name": "ipython",
    "version": 3
   },
   "file_extension": ".py",
   "mimetype": "text/x-python",
   "name": "python",
   "nbconvert_exporter": "python",
   "pygments_lexer": "ipython3",
   "version": "3.10.2"
  },
  "orig_nbformat": 4
 },
 "nbformat": 4,
 "nbformat_minor": 2
}
