{
 "cells": [
  {
   "cell_type": "code",
   "execution_count": 36,
   "id": "initial_id",
   "metadata": {
    "collapsed": true,
    "ExecuteTime": {
     "end_time": "2023-09-21T05:37:33.511504100Z",
     "start_time": "2023-09-21T05:37:33.492745900Z"
    }
   },
   "outputs": [],
   "source": [
    "import pandas as pd\n",
    "import numpy as np\n",
    "from ast import literal_eval"
   ]
  },
  {
   "cell_type": "code",
   "execution_count": 3,
   "outputs": [
    {
     "data": {
      "text/plain": "                                             address   cost  \\\n0                      371A Pitt Street, CBD, Sydney   50.0   \n1      Shop 7A, 2 Huntley Street, Alexandria, Sydney   80.0   \n2   Level G, The Darling at the Star, 80 Pyrmont ...  120.0   \n3   Sydney Opera House, Bennelong Point, Circular...  270.0   \n4              20 Campbell Street, Chinatown, Sydney   55.0   \n\n                                       cuisine        lat  \\\n0   ['Hot Pot', 'Korean BBQ', 'BBQ', 'Korean'] -33.876059   \n1  ['Cafe', 'Coffee and Tea', 'Salad', 'Poké'] -33.910999   \n2                                 ['Japanese'] -33.867971   \n3                        ['Modern Australian'] -33.856784   \n4                            ['Thai', 'Salad'] -33.879035   \n\n                                                link         lng  \\\n0    https://www.zomato.com/sydney/sydney-madang-cbd  151.207605   \n1  https://www.zomato.com/sydney/the-grounds-of-a...  151.193793   \n2        https://www.zomato.com/sydney/sokyo-pyrmont  151.195210   \n3  https://www.zomato.com/sydney/bennelong-restau...  151.215297   \n4  https://www.zomato.com/sydney/chat-thai-chinatown  151.206409   \n\n          phone  rating_number rating_text  \\\n0  02 8318 0406            4.0   Very Good   \n1  02 9699 2225            4.6   Excellent   \n2  1800 700 700            4.9   Excellent   \n3  02 9240 8000            4.9   Excellent   \n4  02 8317 4811            4.5   Excellent   \n\n                                 subzone                           title  \\\n0                                    CBD                   Sydney Madang   \n1  The Grounds of Alexandria, Alexandria  The Grounds of Alexandria Cafe   \n2                      The Star, Pyrmont                           Sokyo   \n3                          Circular Quay            Bennelong Restaurant   \n4                              Chinatown                       Chat Thai   \n\n                     type   votes  groupon    color     cost_2 cuisine_color  \n0       ['Casual Dining']  1311.0    False  #e15307   5.243902       #6f706b  \n1                ['Café']  3236.0    False  #9c3203   7.560976       #6f706b  \n2         ['Fine Dining']  1227.0    False  #7f2704  10.650407       #6f706b  \n3  ['Fine Dining', 'Bar']   278.0    False  #7f2704  22.235772       #4186f4  \n4       ['Casual Dining']  2150.0    False  #a83703   5.630081       #6f706b  ",
      "text/html": "<div>\n<style scoped>\n    .dataframe tbody tr th:only-of-type {\n        vertical-align: middle;\n    }\n\n    .dataframe tbody tr th {\n        vertical-align: top;\n    }\n\n    .dataframe thead th {\n        text-align: right;\n    }\n</style>\n<table border=\"1\" class=\"dataframe\">\n  <thead>\n    <tr style=\"text-align: right;\">\n      <th></th>\n      <th>address</th>\n      <th>cost</th>\n      <th>cuisine</th>\n      <th>lat</th>\n      <th>link</th>\n      <th>lng</th>\n      <th>phone</th>\n      <th>rating_number</th>\n      <th>rating_text</th>\n      <th>subzone</th>\n      <th>title</th>\n      <th>type</th>\n      <th>votes</th>\n      <th>groupon</th>\n      <th>color</th>\n      <th>cost_2</th>\n      <th>cuisine_color</th>\n    </tr>\n  </thead>\n  <tbody>\n    <tr>\n      <th>0</th>\n      <td>371A Pitt Street, CBD, Sydney</td>\n      <td>50.0</td>\n      <td>['Hot Pot', 'Korean BBQ', 'BBQ', 'Korean']</td>\n      <td>-33.876059</td>\n      <td>https://www.zomato.com/sydney/sydney-madang-cbd</td>\n      <td>151.207605</td>\n      <td>02 8318 0406</td>\n      <td>4.0</td>\n      <td>Very Good</td>\n      <td>CBD</td>\n      <td>Sydney Madang</td>\n      <td>['Casual Dining']</td>\n      <td>1311.0</td>\n      <td>False</td>\n      <td>#e15307</td>\n      <td>5.243902</td>\n      <td>#6f706b</td>\n    </tr>\n    <tr>\n      <th>1</th>\n      <td>Shop 7A, 2 Huntley Street, Alexandria, Sydney</td>\n      <td>80.0</td>\n      <td>['Cafe', 'Coffee and Tea', 'Salad', 'Poké']</td>\n      <td>-33.910999</td>\n      <td>https://www.zomato.com/sydney/the-grounds-of-a...</td>\n      <td>151.193793</td>\n      <td>02 9699 2225</td>\n      <td>4.6</td>\n      <td>Excellent</td>\n      <td>The Grounds of Alexandria, Alexandria</td>\n      <td>The Grounds of Alexandria Cafe</td>\n      <td>['Café']</td>\n      <td>3236.0</td>\n      <td>False</td>\n      <td>#9c3203</td>\n      <td>7.560976</td>\n      <td>#6f706b</td>\n    </tr>\n    <tr>\n      <th>2</th>\n      <td>Level G, The Darling at the Star, 80 Pyrmont ...</td>\n      <td>120.0</td>\n      <td>['Japanese']</td>\n      <td>-33.867971</td>\n      <td>https://www.zomato.com/sydney/sokyo-pyrmont</td>\n      <td>151.195210</td>\n      <td>1800 700 700</td>\n      <td>4.9</td>\n      <td>Excellent</td>\n      <td>The Star, Pyrmont</td>\n      <td>Sokyo</td>\n      <td>['Fine Dining']</td>\n      <td>1227.0</td>\n      <td>False</td>\n      <td>#7f2704</td>\n      <td>10.650407</td>\n      <td>#6f706b</td>\n    </tr>\n    <tr>\n      <th>3</th>\n      <td>Sydney Opera House, Bennelong Point, Circular...</td>\n      <td>270.0</td>\n      <td>['Modern Australian']</td>\n      <td>-33.856784</td>\n      <td>https://www.zomato.com/sydney/bennelong-restau...</td>\n      <td>151.215297</td>\n      <td>02 9240 8000</td>\n      <td>4.9</td>\n      <td>Excellent</td>\n      <td>Circular Quay</td>\n      <td>Bennelong Restaurant</td>\n      <td>['Fine Dining', 'Bar']</td>\n      <td>278.0</td>\n      <td>False</td>\n      <td>#7f2704</td>\n      <td>22.235772</td>\n      <td>#4186f4</td>\n    </tr>\n    <tr>\n      <th>4</th>\n      <td>20 Campbell Street, Chinatown, Sydney</td>\n      <td>55.0</td>\n      <td>['Thai', 'Salad']</td>\n      <td>-33.879035</td>\n      <td>https://www.zomato.com/sydney/chat-thai-chinatown</td>\n      <td>151.206409</td>\n      <td>02 8317 4811</td>\n      <td>4.5</td>\n      <td>Excellent</td>\n      <td>Chinatown</td>\n      <td>Chat Thai</td>\n      <td>['Casual Dining']</td>\n      <td>2150.0</td>\n      <td>False</td>\n      <td>#a83703</td>\n      <td>5.630081</td>\n      <td>#6f706b</td>\n    </tr>\n  </tbody>\n</table>\n</div>"
     },
     "execution_count": 3,
     "metadata": {},
     "output_type": "execute_result"
    }
   ],
   "source": [
    "df = pd.read_csv('data/zomato_df_final_data.csv')\n",
    "df.head()"
   ],
   "metadata": {
    "collapsed": false,
    "ExecuteTime": {
     "end_time": "2023-09-21T05:14:31.682475300Z",
     "start_time": "2023-09-21T05:14:31.621474300Z"
    }
   },
   "id": "d381bb87cb423ca3"
  },
  {
   "cell_type": "code",
   "execution_count": 4,
   "outputs": [
    {
     "name": "stdout",
     "output_type": "stream",
     "text": [
      "<class 'pandas.core.frame.DataFrame'>\n",
      "RangeIndex: 10500 entries, 0 to 10499\n",
      "Data columns (total 17 columns):\n",
      " #   Column         Non-Null Count  Dtype  \n",
      "---  ------         --------------  -----  \n",
      " 0   address        10500 non-null  object \n",
      " 1   cost           10154 non-null  float64\n",
      " 2   cuisine        10500 non-null  object \n",
      " 3   lat            10308 non-null  float64\n",
      " 4   link           10500 non-null  object \n",
      " 5   lng            10308 non-null  float64\n",
      " 6   phone          10500 non-null  object \n",
      " 7   rating_number  7184 non-null   float64\n",
      " 8   rating_text    7184 non-null   object \n",
      " 9   subzone        10500 non-null  object \n",
      " 10  title          10500 non-null  object \n",
      " 11  type           10452 non-null  object \n",
      " 12  votes          7184 non-null   float64\n",
      " 13  groupon        10500 non-null  bool   \n",
      " 14  color          10500 non-null  object \n",
      " 15  cost_2         10154 non-null  float64\n",
      " 16  cuisine_color  10500 non-null  object \n",
      "dtypes: bool(1), float64(6), object(10)\n",
      "memory usage: 1.3+ MB\n"
     ]
    }
   ],
   "source": [
    "df.info()"
   ],
   "metadata": {
    "collapsed": false,
    "ExecuteTime": {
     "end_time": "2023-09-21T05:16:13.145502200Z",
     "start_time": "2023-09-21T05:16:13.112501200Z"
    }
   },
   "id": "2e0bff20e0e67647"
  },
  {
   "cell_type": "code",
   "execution_count": 18,
   "outputs": [
    {
     "data": {
      "text/plain": "['[',\n \"'\",\n 'F',\n 'i',\n 'n',\n 'e',\n ' ',\n 'D',\n 'i',\n 'n',\n 'i',\n 'n',\n 'g',\n \"'\",\n ',',\n ' ',\n \"'\",\n 'B',\n 'a',\n 'r',\n \"'\",\n ']']"
     },
     "execution_count": 18,
     "metadata": {},
     "output_type": "execute_result"
    }
   ],
   "source": [
    "np.array(df.type[3])"
   ],
   "metadata": {
    "collapsed": false,
    "ExecuteTime": {
     "end_time": "2023-09-21T05:24:42.233304100Z",
     "start_time": "2023-09-21T05:24:42.225304100Z"
    }
   },
   "id": "df25f9886af19db5"
  },
  {
   "cell_type": "code",
   "execution_count": 10,
   "outputs": [
    {
     "data": {
      "text/plain": "Index(['['Casual Dining']', '['Café']', '['Fine Dining']',\n       '['Fine Dining', 'Bar']', '['Casual Dining', 'Dessert Parlour']',\n       '['Fine Dining', 'Wine Bar']', '['Casual Dining', 'Wine Bar']',\n       '['Casual Dining', 'Bar']', '['Fast Food']', '['Café', 'Bakery']',\n       '['Casual Dining', 'Café']', '['Bar']', '['Bakery', 'Dessert Parlour']',\n       '['Bar', 'Wine Bar']', '['Food Court']', '['Dessert Parlour', 'Café']',\n       '['Bar', 'Casual Dining']', '['Bakery', 'Pub']',\n       '['Café', 'Casual Dining']', '['Café', 'Bar']',\n       '['Casual Dining', 'Pub']', '['Bakery', 'Café']', '['Food Truck']',\n       '['Café', 'Dessert Parlour']', '['Dessert Parlour']', '['Pub']',\n       '['Pub', 'Casual Dining']', '['Dessert Parlour', 'Bakery']',\n       '['Café', 'Wine Bar']', '['Pub', 'Wine Bar']',\n       '['Food Court', 'Casual Dining']', '['Wine Bar', 'Casual Dining']',\n       '['Casual Dining', 'Food Court']', '['Club', 'Bar']',\n       '['Casual Dining', 'Bakery']', '['Bar', 'Pub']', '['Bar', 'Café']',\n       '['Pub', 'Bar']', '['Beverage Shop']', '['Bakery']', '['Wine Bar']',\n       '['Bar', 'Fine Dining']', '['Casual Dining', 'Fast Food']', '['Club']',\n       '['Dessert Parlour', 'Food Court']', '['Café', 'Food Court']',\n       '['Pub', 'Club']', '['Café', 'Beverage Shop']',\n       '['Food Court', 'Café']', '['Fast Food', 'Food Court']',\n       '['Food Court', 'Fast Food']', '['Club', 'Pub']', '['Bar', 'Club']',\n       '['Dessert Parlour', 'Fast Food']', '['Club', 'Casual Dining']',\n       '['Beverage Shop', 'Food Court']', '['Casual Dining', 'Food Stall']',\n       '['Fast Food', 'Bar']', '['Bakery', 'Food Court']',\n       '['Café', 'Fast Food']', '['Fast Food', 'Casual Dining']',\n       '['Bakery', 'Casual Dining']', '['Fast Food', 'Food Truck']',\n       '['Beverage Shop', 'Dessert Parlour']', '['Food Stall']',\n       '['Food Court', 'Beverage Shop']'],\n      dtype='object')"
     },
     "execution_count": 10,
     "metadata": {},
     "output_type": "execute_result"
    }
   ],
   "source": [],
   "metadata": {
    "collapsed": false,
    "ExecuteTime": {
     "end_time": "2023-09-21T05:20:34.937818100Z",
     "start_time": "2023-09-21T05:20:34.892242400Z"
    }
   },
   "id": "f92031b58900527f"
  },
  {
   "cell_type": "markdown",
   "source": [
    "### Convert string to list"
   ],
   "metadata": {
    "collapsed": false
   },
   "id": "f67d717a198ae030"
  },
  {
   "cell_type": "code",
   "execution_count": 38,
   "outputs": [
    {
     "name": "stdout",
     "output_type": "stream",
     "text": [
      "['asd', 'aste', 'yrty']\n",
      "<class 'list'>\n"
     ]
    },
    {
     "data": {
      "text/plain": "'asd'"
     },
     "execution_count": 38,
     "metadata": {},
     "output_type": "execute_result"
    }
   ],
   "source": [
    "input_list = \"['asd', 'aste', 'yrty']\"\n",
    "array_of_strings = literal_eval(input_list)\n",
    "\n",
    "print(array_of_strings)\n",
    "print(type(array_of_strings))\n",
    "array_of_strings[0]"
   ],
   "metadata": {
    "collapsed": false,
    "ExecuteTime": {
     "end_time": "2023-09-21T05:37:46.412785300Z",
     "start_time": "2023-09-21T05:37:46.396777100Z"
    }
   },
   "id": "13c8a949c1576dae"
  }
 ],
 "metadata": {
  "kernelspec": {
   "display_name": "Python 3",
   "language": "python",
   "name": "python3"
  },
  "language_info": {
   "codemirror_mode": {
    "name": "ipython",
    "version": 2
   },
   "file_extension": ".py",
   "mimetype": "text/x-python",
   "name": "python",
   "nbconvert_exporter": "python",
   "pygments_lexer": "ipython2",
   "version": "2.7.6"
  }
 },
 "nbformat": 4,
 "nbformat_minor": 5
}
